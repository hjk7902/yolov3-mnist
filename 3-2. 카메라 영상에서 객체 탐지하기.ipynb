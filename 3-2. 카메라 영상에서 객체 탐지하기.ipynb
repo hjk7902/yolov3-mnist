{
 "cells": [
  {
   "cell_type": "markdown",
   "id": "70606f10",
   "metadata": {},
   "source": [
    "## 카메라 영상에서 객체 탐지하기"
   ]
  },
  {
   "cell_type": "code",
   "execution_count": null,
   "id": "654aa3b7",
   "metadata": {},
   "outputs": [],
   "source": [
    "import os\n",
    "import tensorflow as tf\n",
    "from config import *\n",
    "from image_process import resize_to_square\n",
    "from data import read_class_names\n",
    "from post_process import *\n",
    "from yolov3 import Create_YOLOv3\n",
    "\n",
    "yolo = Create_YOLOv3(num_class=NUM_CLASS)\n",
    "yolo.load_weights(os.path.join(CHECKPOINTS_FOLDER, MODEL_NAME))\n",
    "\n",
    "weights = yolo.get_weights()\n",
    "class_names = read_class_names(CLASS_LABEL_PATH)\n",
    "\n",
    "cap = cv2.VideoCapture(0)\n",
    "if cap.isOpened():\n",
    "    while True:\n",
    "        yolo.set_weights(weights)\n",
    "        ret, image = cap.read()\n",
    "        if not ret:\n",
    "            print(\"프레임을 받지 못했습니다.\")\n",
    "            break \n",
    "\n",
    "        # 밝기를 100만큼 더함 \n",
    "        dummy = np.full(image.shape, fill_value=50, \n",
    "                        dtype=np.uint8)\n",
    "        cv2.add(image, dummy, image)\n",
    "                \n",
    "        # 콘트라스트 강조함 \n",
    "        image = cv2.normalize(image, None, 0, 255,\n",
    "                              cv2.NORM_MINMAX)\n",
    "\n",
    "        # 이미지를 정사각형 모양으로 만듬 \n",
    "        image_data = resize_to_square(np.copy(image), 416)\n",
    "        image_data = image_data[np.newaxis,\n",
    "                                ...].astype(np.float32)\n",
    "\n",
    "        # 상자 예측 \n",
    "        pred_box = yolo.predict(image_data, verbose=0)\n",
    "        pred_box = [tf.reshape(x, (-1, tf.shape(x)[-1])) \n",
    "                    for x in pred_box]\n",
    "        pred_box = tf.concat(pred_box, axis=0)\n",
    "\n",
    "        # 상자 후처리 \n",
    "        bboxes = postprocess_boxes(pred_box, image, 416, 0.3) # 0.3\n",
    "\n",
    "        # NMS에 의해 해당 영역에서 상자 하나만 남김 \n",
    "        bboxes = nms(bboxes, 0.45, method=\"nms\") # 0.45\n",
    "\n",
    "        # 상자를 그림 \n",
    "        image = draw_bbox(image, bboxes, class_names)\n",
    "\n",
    "        cv2.imshow(\"Image\", image)\n",
    "        if cv2.waitKey(1) & 0xFF == 27:\n",
    "            break\n",
    "else:\n",
    "    print('연결된 카메라가 없습니다.')\n",
    "\n",
    "cap.release()\n",
    "cv2.destroyAllWindows()"
   ]
  },
  {
   "cell_type": "code",
   "execution_count": null,
   "id": "0ef2b8be",
   "metadata": {},
   "outputs": [],
   "source": []
  }
 ],
 "metadata": {
  "kernelspec": {
   "display_name": "Python 3 (ipykernel)",
   "language": "python",
   "name": "python3"
  },
  "language_info": {
   "codemirror_mode": {
    "name": "ipython",
    "version": 3
   },
   "file_extension": ".py",
   "mimetype": "text/x-python",
   "name": "python",
   "nbconvert_exporter": "python",
   "pygments_lexer": "ipython3",
   "version": "3.10.9"
  },
  "toc": {
   "base_numbering": 1,
   "nav_menu": {},
   "number_sections": true,
   "sideBar": true,
   "skip_h1_title": false,
   "title_cell": "Table of Contents",
   "title_sidebar": "Contents",
   "toc_cell": false,
   "toc_position": {
    "height": "calc(100% - 180px)",
    "left": "10px",
    "top": "150px",
    "width": "165px"
   },
   "toc_section_display": true,
   "toc_window_display": true
  }
 },
 "nbformat": 4,
 "nbformat_minor": 5
}
