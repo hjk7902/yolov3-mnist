{
 "cells": [
  {
   "cell_type": "markdown",
   "id": "bb1e20c3",
   "metadata": {},
   "source": [
    "# 객체 탐지"
   ]
  },
  {
   "cell_type": "markdown",
   "id": "bfd88fe1",
   "metadata": {},
   "source": [
    "## detect_image"
   ]
  },
  {
   "cell_type": "code",
   "execution_count": 1,
   "id": "8a16df4c",
   "metadata": {},
   "outputs": [],
   "source": [
    "import random\n",
    "import numpy as np\n",
    "import cv2\n",
    "import tensorflow as tf\n",
    "\n",
    "from image_process import resize_to_square\n",
    "from data import read_class_names\n",
    "from post_process import *\n",
    "\n",
    "def detect_image(model, image_path, output_path, class_label_path, input_size=416, show=False,\n",
    "                 score_threshold=0.3, iou_threshold=0.45, rectangle_colors=''):\n",
    "    original_image = cv2.imread(image_path)\n",
    "    class_names = read_class_names(class_label_path)\n",
    "\n",
    "    image_data = resize_to_square(np.copy(original_image), target_size=input_size)\n",
    "    image_data = image_data[np.newaxis, ...].astype(np.float32)\n",
    "\n",
    "    pred_bbox = model.predict(image_data)\n",
    "\n",
    "    pred_bbox = [tf.reshape(x, (-1, tf.shape(x)[-1])) for x in pred_bbox]\n",
    "    pred_bbox = tf.concat(pred_bbox, axis=0)\n",
    "\n",
    "    bboxes = postprocess_boxes(pred_bbox, original_image, input_size, score_threshold)\n",
    "    bboxes = nms(bboxes, iou_threshold, method='nms')\n",
    "\n",
    "    image = draw_bbox(original_image, bboxes, class_names, rectangle_colors=rectangle_colors)\n",
    "\n",
    "    if output_path != '': \n",
    "        cv2.imwrite(output_path, image)\n",
    "    if show:\n",
    "        cv2.imshow(\"predicted image\", image)\n",
    "        cv2.waitKey(0)\n",
    "        cv2.destroyAllWindows()\n",
    "\n",
    "    return image"
   ]
  },
  {
   "cell_type": "markdown",
   "id": "273d02cf",
   "metadata": {},
   "source": [
    "## YOLOv3를 이용한 객체 탐지"
   ]
  },
  {
   "cell_type": "code",
   "execution_count": 1,
   "id": "93e766c0",
   "metadata": {
    "ExecuteTime": {
     "end_time": "2022-02-27T09:37:31.225434Z",
     "start_time": "2022-02-27T09:37:25.978Z"
    }
   },
   "outputs": [],
   "source": [
    "NUM_CLASS = 10 \n",
    " \n",
    "from yolov3 import Create_YOLOv3\n",
    "yolo = Create_YOLOv3(num_class=NUM_CLASS)\n",
    "yolo.load_weights(\"checkpoints/mnist_custom\")\n",
    "weight = yolo.get_weights()"
   ]
  },
  {
   "cell_type": "code",
   "execution_count": 2,
   "id": "84df8dea",
   "metadata": {
    "ExecuteTime": {
     "end_time": "2022-02-27T09:37:31.226332Z",
     "start_time": "2022-02-27T09:37:25.980Z"
    }
   },
   "outputs": [],
   "source": [
    "result_image = detect_image(model=yolo, \n",
    "                            image_path=\"mnist_test_c.jpg\", \n",
    "                            output_path=\"mnist_test_out.jpg\", \n",
    "                            class_label_path=\"mnist.names\", \n",
    "                            input_size=416, show=True)"
   ]
  },
  {
   "cell_type": "markdown",
   "id": "0c353080",
   "metadata": {},
   "source": [
    "# 실시간 객체 탐지"
   ]
  },
  {
   "cell_type": "code",
   "execution_count": 1,
   "id": "d92a6229",
   "metadata": {},
   "outputs": [],
   "source": [
    "import tensorflow as tf\n",
    "\n",
    "from image_process import resize_to_square\n",
    "from data import read_class_names\n",
    "from post_process import *\n",
    "from yolov3 import Create_YOLOv3\n",
    "\n",
    "yolo = Create_YOLOv3(num_class=10)\n",
    "yolo.load_weights(\"checkpoints/mnist_custom\")\n",
    "\n",
    "class_names = read_class_names(\"mnist.names\")\n",
    "\n",
    "cap = cv2.VideoCapture(1)\n",
    "if cap.isOpened():\n",
    "    while True:\n",
    "        ret, image = cap.read()\n",
    "        if not ret:\n",
    "            print(\"프레임을 받지 못했습니다.\")\n",
    "            break \n",
    "        \n",
    "        # 밝기를 100만큼 더함\n",
    "        dummy = np.full(image.shape, fill_value=100, dtype=np.uint8)\n",
    "        cv2.add(image, dummy, image)\n",
    "        # 콘트라스트 강조함\n",
    "        image = cv2.normalize(image, None, 0, 255, cv2.NORM_MINMAX)\n",
    "\n",
    "        # 이미지를 정사각형 모양으로 만듬\n",
    "        image_data = resize_to_square(np.copy(image), 416)\n",
    "        image_data = image_data[np.newaxis, ...].astype(np.float32)\n",
    "\n",
    "        # 상자 예측\n",
    "        pred_box = yolo.predict(image_data)\n",
    "        pred_box = [tf.reshape(x, (-1, tf.shape(x)[-1]))\n",
    "                    for x in pred_box]\n",
    "        pred_box = tf.concat(pred_box, axis=0)\n",
    "\n",
    "        # 상자 후처리\n",
    "        bboxes = postprocess_boxes(pred_box, image, 416, 0.3)\n",
    "        \n",
    "        # NMS에 의해 해당 영역에서 상자 하나만 남김\n",
    "        bboxes = nms(bboxes, 0.45, method=\"nms\")\n",
    "\n",
    "        # 상자를 그림\n",
    "        image = draw_bbox(image, bboxes, class_names)\n",
    "\n",
    "        cv2.imshow(\"Image\", image)\n",
    "        if cv2.waitKey(1) & 0xFF == 27:\n",
    "            break\n",
    "\n",
    "else:\n",
    "    print('연결된 카메라가 없습니다.')\n",
    "\n",
    "cap.release()\n",
    "cv2.destroyAllWindows()"
   ]
  },
  {
   "cell_type": "code",
   "execution_count": null,
   "id": "6014387e",
   "metadata": {},
   "outputs": [],
   "source": []
  }
 ],
 "metadata": {
  "kernelspec": {
   "display_name": "Python 3 (ipykernel)",
   "language": "python",
   "name": "python3"
  },
  "language_info": {
   "codemirror_mode": {
    "name": "ipython",
    "version": 3
   },
   "file_extension": ".py",
   "mimetype": "text/x-python",
   "name": "python",
   "nbconvert_exporter": "python",
   "pygments_lexer": "ipython3",
   "version": "3.9.7"
  },
  "toc": {
   "base_numbering": 1,
   "nav_menu": {},
   "number_sections": true,
   "sideBar": true,
   "skip_h1_title": false,
   "title_cell": "Table of Contents",
   "title_sidebar": "Contents",
   "toc_cell": false,
   "toc_position": {
    "height": "calc(100% - 180px)",
    "left": "10px",
    "top": "150px",
    "width": "165px"
   },
   "toc_section_display": true,
   "toc_window_display": true
  }
 },
 "nbformat": 4,
 "nbformat_minor": 5
}
