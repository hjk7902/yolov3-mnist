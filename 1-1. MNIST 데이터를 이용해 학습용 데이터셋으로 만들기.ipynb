{
 "cells": [
  {
   "cell_type": "code",
   "execution_count": 1,
   "id": "5e99a941",
   "metadata": {},
   "outputs": [],
   "source": [
    "import os\n",
    "import cv2\n",
    "import numpy as np\n",
    "import shutil\n",
    "import random\n",
    "\n",
    "SIZE = 416 # 학습용 이미지의 크기\n",
    "TRAIN_IMAGES_NUM = 1000 # 생성할 학습용 이미지의 수\n",
    "TEST_IMAGES_NUM = 200   # 생성할 평가용 이미지의 수\n",
    "\n",
    "# 만들어지는 이미지 크기별 최대 개수(small, medium, big)\n",
    "IMAGE_SIZE_COUNT = [3, 6, 3] \n",
    "\n",
    "# 크기(small, medium, big)별 배율\n",
    "IMAGE_SIZE_RATIOS = [[0.5, 0.8], [1., 1.5, 2.], [3., 4.]]"
   ]
  },
  {
   "cell_type": "code",
   "execution_count": 2,
   "id": "f578c4f1",
   "metadata": {},
   "outputs": [],
   "source": [
    "from tensorflow.keras.datasets import mnist\n",
    "(x_train, y_train), (x_test, y_test) = mnist.load_data()"
   ]
  },
  {
   "cell_type": "code",
   "execution_count": 3,
   "id": "3e0ac433",
   "metadata": {},
   "outputs": [],
   "source": [
    "x_train = 255 - x_train\n",
    "x_test = 255 - x_test"
   ]
  },
  {
   "cell_type": "code",
   "execution_count": 4,
   "id": "0c9ab0c1",
   "metadata": {},
   "outputs": [
    {
     "data": {
      "text/plain": [
       "dtype('uint8')"
      ]
     },
     "execution_count": 4,
     "metadata": {},
     "output_type": "execute_result"
    }
   ],
   "source": [
    "x_train.dtype"
   ]
  },
  {
   "cell_type": "code",
   "execution_count": 5,
   "id": "3ee70158",
   "metadata": {},
   "outputs": [],
   "source": [
    "def compute_iou(box1, box2):\n",
    "    A1 = (box1[2] - box1[0])*(box1[3] - box1[1])\n",
    "    A2 = (box2[2] - box2[0])*(box2[3] - box2[1])\n",
    "\n",
    "    xmin = max(box1[0], box2[0])\n",
    "    ymin = max(box1[1], box2[1])\n",
    "    xmax = min(box1[2], box2[2])\n",
    "    ymax = min(box1[3], box2[3])\n",
    "\n",
    "    if ymin >= ymax or xmin >= xmax: return 0\n",
    "    return  ((xmax-xmin) * (ymax - ymin)) / (A1 + A2)"
   ]
  },
  {
   "cell_type": "code",
   "execution_count": 6,
   "id": "dc7ccbb1",
   "metadata": {},
   "outputs": [],
   "source": [
    "def make_image(data, image, label, ratio=1):\n",
    "    output = data[0]\n",
    "    boxes = data[1]\n",
    "    labels = data[2]\n",
    "    if(len(image.shape)==2):\n",
    "        image = cv2.cvtColor(image, cv2.COLOR_GRAY2BGR)\n",
    "\n",
    "    image = cv2.resize(image, (int(28*ratio), int(28*ratio)))\n",
    "    h, w, c = image.shape\n",
    "\n",
    "    while True:\n",
    "        xmin = np.random.randint(0, SIZE-w, 1)[0]\n",
    "        ymin = np.random.randint(0, SIZE-h, 1)[0]\n",
    "        xmax = xmin + w\n",
    "        ymax = ymin + h\n",
    "        box = [xmin, ymin, xmax, ymax]\n",
    "\n",
    "        iou = [compute_iou(box, b) for b in boxes]\n",
    "        if max(iou) < 0.02:\n",
    "            boxes.append(box)\n",
    "            labels.append(label)\n",
    "            break\n",
    "\n",
    "    for i in range(w):\n",
    "        for j in range(h):\n",
    "            x = xmin + i\n",
    "            y = ymin + j\n",
    "            output[y][x] = image[j][i]\n",
    "\n",
    "    return output"
   ]
  },
  {
   "cell_type": "code",
   "execution_count": 7,
   "id": "1d8dc74d",
   "metadata": {
    "scrolled": true
   },
   "outputs": [
    {
     "data": {
      "text/plain": [
       "((60000, 28, 28), (10000, 28, 28))"
      ]
     },
     "execution_count": 7,
     "metadata": {},
     "output_type": "execute_result"
    }
   ],
   "source": [
    "x_train.shape, x_test.shape"
   ]
  },
  {
   "cell_type": "code",
   "execution_count": 8,
   "id": "1bc81130",
   "metadata": {},
   "outputs": [
    {
     "name": "stdout",
     "output_type": "stream",
     "text": [
      "................................................................................................................................................................................................................................................................................................................................................................................................................................................................................................................................................................................................................................................................................................................................................................................................................................................................................................................................................................................................................................................................................................................................................................................................................................................"
     ]
    }
   ],
   "source": [
    "import os\n",
    "from pathlib import Path\n",
    "\n",
    "for file in ['train','test']:\n",
    "    images_path = f\"./data/mnist/{file}\"\n",
    "    labels_txt = f\"./data/mnist/{file}.txt\"\n",
    "    \n",
    "    if file == 'train': \n",
    "        images_num = TRAIN_IMAGES_NUM\n",
    "        images = x_train\n",
    "        img_labels = y_train\n",
    "    if file == 'test': \n",
    "        images_num = TEST_IMAGES_NUM\n",
    "        images = x_test\n",
    "        img_labels = y_test\n",
    "        \n",
    "    if os.path.exists(images_path): shutil.rmtree(images_path)\n",
    "    Path(images_path).mkdir(parents=True, exist_ok=True)\n",
    "\n",
    "    with open(labels_txt, \"w\") as f:\n",
    "        image_num = 0\n",
    "        while image_num < images_num:\n",
    "            image_path = os.path.join(images_path, \"%06d.jpg\"%(image_num+1))\n",
    "            #print(image_path)\n",
    "            annotation = image_path\n",
    "            outputs = np.ones(shape=[SIZE, SIZE, 3]) * 255\n",
    "            bboxes = [[0,0,1,1]]\n",
    "            labels = [0]\n",
    "            data = [outputs, bboxes, labels]\n",
    "            bboxes_num = 0\n",
    "            \n",
    "            for i in range(len(IMAGE_SIZE_RATIOS)):\n",
    "                N = random.randint(0, IMAGE_SIZE_COUNT[i])\n",
    "                if N!=0: bboxes_num += 1\n",
    "                for _ in range(N):\n",
    "                    ratio = random.choice(IMAGE_SIZE_RATIOS[i])\n",
    "                    idx = random.randint(0, len(images)-1)\n",
    "                    data[0] = make_image(data, images[idx], img_labels[idx], ratio)\n",
    "\n",
    "            if bboxes_num == 0: continue\n",
    "            cv2.imwrite(image_path, data[0]) # 한글경로에 저장 안됨\n",
    "#             cv2.imshow(\"image\", data[0])\n",
    "#             cv2.waitKey()\n",
    "#             cv2.destroyAllWindows()\n",
    "#             break\n",
    "#             print(image_path, data[0].shape)\n",
    "            for i in range(len(labels)):\n",
    "                if i == 0: continue\n",
    "                xmin = str(bboxes[i][0])\n",
    "                ymin = str(bboxes[i][1])\n",
    "                xmax = str(bboxes[i][2])\n",
    "                ymax = str(bboxes[i][3])\n",
    "                class_ind = str(labels[i])\n",
    "                annotation += ' ' + ','.join([xmin, ymin, xmax, ymax, str(class_ind)])\n",
    "            image_num += 1\n",
    "            print('.', end='')\n",
    "            # print(\"=> %s\" %annotation)\n",
    "            f.write(annotation + \"\\n\")\n"
   ]
  },
  {
   "cell_type": "code",
   "execution_count": null,
   "id": "fc9dcbc6",
   "metadata": {},
   "outputs": [],
   "source": []
  }
 ],
 "metadata": {
  "kernelspec": {
   "display_name": "Python 3 (ipykernel)",
   "language": "python",
   "name": "python3"
  },
  "language_info": {
   "codemirror_mode": {
    "name": "ipython",
    "version": 3
   },
   "file_extension": ".py",
   "mimetype": "text/x-python",
   "name": "python",
   "nbconvert_exporter": "python",
   "pygments_lexer": "ipython3",
   "version": "3.10.9"
  },
  "toc": {
   "base_numbering": 1,
   "nav_menu": {},
   "number_sections": true,
   "sideBar": true,
   "skip_h1_title": false,
   "title_cell": "Table of Contents",
   "title_sidebar": "Contents",
   "toc_cell": false,
   "toc_position": {},
   "toc_section_display": true,
   "toc_window_display": false
  }
 },
 "nbformat": 4,
 "nbformat_minor": 5
}
