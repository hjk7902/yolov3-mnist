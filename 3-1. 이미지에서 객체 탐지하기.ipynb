{
 "cells": [
  {
   "cell_type": "code",
   "execution_count": 1,
   "id": "3e3971b0",
   "metadata": {},
   "outputs": [],
   "source": [
    "import random\n",
    "import numpy as np\n",
    "import cv2\n",
    "import tensorflow as tf\n",
    "\n",
    "from image_process import resize_to_square\n",
    "from data import read_class_names\n",
    "from post_process import *\n",
    "\n",
    "def detect_image(model, image_path, output_path, class_label_path, input_size=416, show=False,\n",
    "                 score_threshold=0.3, iou_threshold=0.45, rectangle_colors=''):\n",
    "    original_image = cv2.imread(image_path)\n",
    "    class_names = read_class_names(class_label_path)\n",
    "\n",
    "    image_data = resize_to_square(np.copy(original_image), target_size=input_size)\n",
    "    image_data = image_data[np.newaxis, ...].astype(np.float32)\n",
    "\n",
    "    pred_bbox = model.predict(image_data)\n",
    "\n",
    "    pred_bbox = [tf.reshape(x, (-1, tf.shape(x)[-1])) for x in pred_bbox]\n",
    "    pred_bbox = tf.concat(pred_bbox, axis=0)\n",
    "\n",
    "    bboxes = postprocess_boxes(pred_bbox, original_image, input_size, score_threshold)\n",
    "    bboxes = nms(bboxes, iou_threshold, method='nms')\n",
    "\n",
    "    image = draw_bbox(original_image, bboxes, class_names, rectangle_colors=rectangle_colors)\n",
    "\n",
    "    if output_path != '': \n",
    "        cv2.imwrite(output_path, image)\n",
    "    if show:\n",
    "        cv2.imshow(\"predicted image\", image)\n",
    "        cv2.waitKey(0)\n",
    "        cv2.destroyAllWindows()\n",
    "\n",
    "    return image"
   ]
  },
  {
   "cell_type": "code",
   "execution_count": 2,
   "id": "f878f522",
   "metadata": {},
   "outputs": [],
   "source": [
    "NUM_CLASS = 10 \n",
    " \n",
    "from yolov3 import Create_YOLOv3\n",
    "yolo = Create_YOLOv3(num_class=NUM_CLASS)\n",
    "yolo.load_weights(\"checkpoints/mnist_custom\")\n",
    "weight = yolo.get_weights()"
   ]
  },
  {
   "cell_type": "code",
   "execution_count": 3,
   "id": "0742375b",
   "metadata": {},
   "outputs": [],
   "source": [
    "result_image = detect_image(model=yolo, \n",
    "                            image_path=\"mnist_test_c.jpg\", \n",
    "                            output_path=\"mnist_test_out.jpg\", \n",
    "                            class_label_path=\"mnist.names\", \n",
    "                            input_size=416, show=True)"
   ]
  },
  {
   "cell_type": "code",
   "execution_count": null,
   "id": "74cfe1c4",
   "metadata": {},
   "outputs": [],
   "source": []
  }
 ],
 "metadata": {
  "kernelspec": {
   "display_name": "Python 3 (ipykernel)",
   "language": "python",
   "name": "python3"
  },
  "language_info": {
   "codemirror_mode": {
    "name": "ipython",
    "version": 3
   },
   "file_extension": ".py",
   "mimetype": "text/x-python",
   "name": "python",
   "nbconvert_exporter": "python",
   "pygments_lexer": "ipython3",
   "version": "3.9.7"
  },
  "toc": {
   "base_numbering": 1,
   "nav_menu": {},
   "number_sections": true,
   "sideBar": true,
   "skip_h1_title": false,
   "title_cell": "Table of Contents",
   "title_sidebar": "Contents",
   "toc_cell": false,
   "toc_position": {},
   "toc_section_display": true,
   "toc_window_display": false
  }
 },
 "nbformat": 4,
 "nbformat_minor": 5
}
